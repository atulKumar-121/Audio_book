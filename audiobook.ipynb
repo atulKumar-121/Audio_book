{
 "cells": [
  {
   "cell_type": "code",
   "execution_count": 1,
   "metadata": {},
   "outputs": [],
   "source": [
    "import pyttsx3\n",
    "import PyPDF2"
   ]
  },
  {
   "cell_type": "code",
   "execution_count": null,
   "metadata": {},
   "outputs": [
    {
     "name": "stderr",
     "output_type": "stream",
     "text": [
      "PdfReadWarning: Xref table not zero-indexed. ID numbers for objects will be corrected. [pdf.py:1736]\n"
     ]
    }
   ],
   "source": [
    "book=open(\"Python 3 for Absolute Beginners.pdf\",'rb')#first parameter is the file path whose text is required is to be read\n",
    "pdfReader=PyPDF2.PdfFileReader(book)\n",
    "pages=pdfReader.numPages\n",
    "speaker=pyttsx3.init()\n",
    "for num in range(15, pages):#extracting the pages from the pdf\n",
    "    page=pdfReader.getPage(14)\n",
    "    text=page.extractText()#extracting text from the page\n",
    "    speaker.say(text)\n",
    "    speaker.runAndWait()"
   ]
  },
  {
   "cell_type": "code",
   "execution_count": null,
   "metadata": {},
   "outputs": [],
   "source": []
  }
 ],
 "metadata": {
  "kernelspec": {
   "display_name": "Python 3",
   "language": "python",
   "name": "python3"
  },
  "language_info": {
   "codemirror_mode": {
    "name": "ipython",
    "version": 3
   },
   "file_extension": ".py",
   "mimetype": "text/x-python",
   "name": "python",
   "nbconvert_exporter": "python",
   "pygments_lexer": "ipython3",
   "version": "3.7.0"
  }
 },
 "nbformat": 4,
 "nbformat_minor": 2
}
